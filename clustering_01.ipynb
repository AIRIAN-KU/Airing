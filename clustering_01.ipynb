{
 "cells": [
  {
   "cell_type": "markdown",
   "metadata": {},
   "source": [
    "### 1. 일치해야 하는 정보 \n",
    "\n",
    "a. 출발지→공항 or 공항→목적지 두개 중에 어떤 걸 선택했는지 (출발지->공항 가는 경우)\n",
    "\n",
    "b. 출발 날짜가 같아야 함"
   ]
  },
  {
   "cell_type": "code",
   "execution_count": 4,
   "metadata": {},
   "outputs": [],
   "source": [
    "import pandas as pd\n",
    "\n",
    "# case1: 공항으로 가는 경우\n",
    "to_airport_df = pd.read_csv('sample_data/to_airport_data.csv')\n",
    "\n",
    "# case2: 집으로 가는 경우\n",
    "to_home_df = pd.read_csv('sample_data/to_home_data.csv')"
   ]
  },
  {
   "cell_type": "markdown",
   "metadata": {},
   "source": []
  }
 ],
 "metadata": {
  "kernelspec": {
   "display_name": "air_env",
   "language": "python",
   "name": "python3"
  },
  "language_info": {
   "codemirror_mode": {
    "name": "ipython",
    "version": 3
   },
   "file_extension": ".py",
   "mimetype": "text/x-python",
   "name": "python",
   "nbconvert_exporter": "python",
   "pygments_lexer": "ipython3",
   "version": "3.10.15"
  }
 },
 "nbformat": 4,
 "nbformat_minor": 2
}
