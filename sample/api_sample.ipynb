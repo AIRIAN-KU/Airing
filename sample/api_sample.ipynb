{
 "cells": [
  {
   "cell_type": "code",
   "execution_count": 3,
   "metadata": {},
   "outputs": [
    {
     "name": "stdout",
     "output_type": "stream",
     "text": [
      "{\t\"error\":{\t\t\"id\":\"400\",\t\t\"category\":\"tmap\",\t\t\"code\":\"9401\",\t\t\"message\":\"필수 파라메터가 없습니다.\"\t}}\n"
     ]
    }
   ],
   "source": [
    "import requests\n",
    "\n",
    "import requests\n",
    "\n",
    "url = \"https://apis.openapi.sk.com/tmap/routes/routeOptimization10?version=1\"\n",
    "\n",
    "payload = {\n",
    "    \"reqCoordType\": \"WGS84GEO\",\n",
    "    \"resCoordType\": \"WGS84GEO\",\n",
    "    \"startName\": \"%EC%B6%9C%EB%B0%9C\",\n",
    "    \"startX\": \"126.966484\",\n",
    "    \"startY\": \"37.565453\",\n",
    "    \"startTime\": \"201709121938\",\n",
    "    \"endName\": \"%EB%8F%84%EC%B0%A9\",\n",
    "    \"endX\": \"127.008112\",\n",
    "    \"endY\": \"37.565657\",\n",
    "    \"searchOption\": \"0\",\n",
    "    \"carType\": \"4\",\n",
    "    \"coordinateFlag\": \"0\",\n",
    "    \"truckType\": \"1\",\n",
    "    \"truckWidth\": \"250\",\n",
    "    \"truckHeight\": \"340\",\n",
    "    \"truckWeight\": \"35500\",\n",
    "    \"truckTotalWeight\": \"26000\",\n",
    "    \"truckLength\": \"880\"\n",
    "}\n",
    "headers = {\n",
    "    \"accept\": \"application/json\",\n",
    "    \"content-type\": \"application/json\",\n",
    "    \"appKey\": \"YEWVxfrK4j8xTNQZURJ4z1Te4JTZs26v45fgmfn7\"\n",
    "}\n",
    "\n",
    "response = requests.post(url, json=payload, headers=headers)\n",
    "\n",
    "print(response.text)"
   ]
  },
  {
   "cell_type": "markdown",
   "metadata": {},
   "source": [
    "더 구체적으로 설정하려면 \n",
    "\n",
    "https://tmap-skopenapi.readme.io/reference/%EA%B2%BD%EC%9C%A0%EC%A7%80-%EC%B5%9C%EC%A0%81%ED%99%94-10-1 참고"
   ]
  },
  {
   "cell_type": "markdown",
   "metadata": {},
   "source": []
  }
 ],
 "metadata": {
  "kernelspec": {
   "display_name": "air_env",
   "language": "python",
   "name": "python3"
  },
  "language_info": {
   "codemirror_mode": {
    "name": "ipython",
    "version": 3
   },
   "file_extension": ".py",
   "mimetype": "text/x-python",
   "name": "python",
   "nbconvert_exporter": "python",
   "pygments_lexer": "ipython3",
   "version": "3.10.15"
  }
 },
 "nbformat": 4,
 "nbformat_minor": 2
}
