{
 "cells": [
  {
   "cell_type": "code",
   "execution_count": 5,
   "metadata": {},
   "outputs": [
    {
     "name": "stdout",
     "output_type": "stream",
     "text": [
      "Cluster 1 locations: [[ 37.58  126.978]]\n",
      "Cluster 2 locations: [[ 37.59  126.98 ]\n",
      " [ 37.595 126.976]]\n",
      "Cluster 3 locations: [[ 37.561 126.982]\n",
      " [ 37.562 126.975]\n",
      " [ 37.565 126.984]\n",
      " [ 37.57  126.975]]\n",
      "Cluster 4 locations: [[ 37.577 126.986]\n",
      " [ 37.585 126.99 ]]\n",
      "Cluster 5 locations: [[ 37.599 126.985]]\n"
     ]
    }
   ],
   "source": [
    "import numpy as np\n",
    "from sklearn.cluster import KMeans\n",
    "from scipy.spatial.distance import cdist\n",
    "\n",
    "# 예시 좌표 - 10개의 지역 (lat, lon)\n",
    "locations = np.array([\n",
    "    [37.561, 126.982], [37.562, 126.975], [37.565, 126.984], [37.570, 126.975],\n",
    "    [37.577, 126.986], [37.580, 126.978], [37.585, 126.990], [37.590, 126.980],\n",
    "    [37.595, 126.976], [37.599, 126.985]\n",
    "])\n",
    "\n",
    "# 원하는 클러스터 개수 선택 (2, 3, 4)\n",
    "cluster_count_options = [5, 4, 3]  # 각 클러스터당 2, 3, 4개의 군집 생성\n",
    "\n",
    "# 최소 거리 군집화 함수\n",
    "def optimal_clustering(locations, cluster_counts):\n",
    "    best_clusters = {}\n",
    "    for n_clusters in cluster_counts:\n",
    "        kmeans = KMeans(n_clusters=n_clusters, random_state=0)\n",
    "        labels = kmeans.fit_predict(locations)\n",
    "        \n",
    "        # 클러스터 내 거리의 총합을 계산\n",
    "        intra_distances = np.sum([cdist(locations[labels == i], [kmeans.cluster_centers_[i]], 'euclidean').sum()\n",
    "                                  for i in range(n_clusters)])\n",
    "        \n",
    "        best_clusters[n_clusters] = (labels, intra_distances)\n",
    "    \n",
    "    # 가장 작은 intra_distances를 가진 클러스터 선택\n",
    "    optimal_clusters = min(best_clusters.items(), key=lambda x: x[1][1])\n",
    "    return optimal_clusters[1][0]  # 최적화된 클러스터의 라벨 반환\n",
    "\n",
    "# 최적 클러스터 구하기\n",
    "best_labels = optimal_clustering(locations, cluster_count_options)\n",
    "\n",
    "# 클러스터링 결과 출력\n",
    "for i, cluster in enumerate(set(best_labels)):\n",
    "    cluster_locations = locations[best_labels == cluster]\n",
    "    print(f\"Cluster {i+1} locations: {cluster_locations}\")\n"
   ]
  },
  {
   "cell_type": "code",
   "execution_count": 6,
   "metadata": {},
   "outputs": [
    {
     "name": "stdout",
     "output_type": "stream",
     "text": [
      "Cluster 1 locations: [[ 37.59  126.98 ]\n",
      " [ 37.595 126.976]\n",
      " [ 37.599 126.985]]\n",
      "Cluster 2 locations: [[ 37.561 126.982]\n",
      " [ 37.562 126.975]\n",
      " [ 37.565 126.984]\n",
      " [ 37.57  126.975]]\n",
      "Cluster 3 locations: [[ 37.577 126.986]\n",
      " [ 37.58  126.978]\n",
      " [ 37.585 126.99 ]]\n"
     ]
    }
   ],
   "source": [
    "import numpy as np\n",
    "from sklearn.cluster import KMeans\n",
    "from scipy.spatial.distance import cdist\n",
    "\n",
    "# 예시 좌표 - 10개의 지역 (lat, lon)\n",
    "locations = np.array([\n",
    "    [37.561, 126.982], [37.562, 126.975], [37.565, 126.984], [37.570, 126.975],\n",
    "    [37.577, 126.986], [37.580, 126.978], [37.585, 126.990], [37.590, 126.980],\n",
    "    [37.595, 126.976], [37.599, 126.985]\n",
    "])\n",
    "\n",
    "# 원하는 클러스터 개수 선택 (2, 3, 4)\n",
    "cluster_count_options = [5, 4, 3]  # 각 클러스터당 2, 3, 4개의 군집 생성\n",
    "\n",
    "# 최소 거리 군집화 함수\n",
    "def optimal_clustering(locations, cluster_counts):\n",
    "    best_clusters = {}\n",
    "    for n_clusters in cluster_counts:\n",
    "        kmeans = KMeans(n_clusters=n_clusters, random_state=0)\n",
    "        labels = kmeans.fit_predict(locations)\n",
    "        \n",
    "        # 클러스터 내 거리의 총합을 계산\n",
    "        intra_distances = np.sum([cdist(locations[labels == i], [kmeans.cluster_centers_[i]], 'euclidean').sum()\n",
    "                                  for i in range(n_clusters)])\n",
    "        \n",
    "        best_clusters[n_clusters] = (labels, intra_distances)\n",
    "    \n",
    "    # 가장 작은 intra_distances를 가진 클러스터 선택\n",
    "    optimal_clusters = min(best_clusters.items(), key=lambda x: x[1][1])\n",
    "    labels = optimal_clusters[1][0]\n",
    "\n",
    "    # 1개짜리 클러스터가 있으면 병합\n",
    "    unique_labels, counts = np.unique(labels, return_counts=True)\n",
    "    for label, count in zip(unique_labels, counts):\n",
    "        if count == 1:\n",
    "            single_point_idx = np.where(labels == label)[0][0]  # 1개인 클러스터의 인덱스 찾기\n",
    "            \n",
    "            # 가장 가까운 클러스터로 병합\n",
    "            distances = cdist([locations[single_point_idx]], locations[labels != label], 'euclidean')\n",
    "            closest_label = labels[labels != label][np.argmin(distances)]\n",
    "            labels[single_point_idx] = closest_label  # 병합 수행\n",
    "            \n",
    "    return labels\n",
    "\n",
    "# 최적 클러스터 구하기\n",
    "best_labels = optimal_clustering(locations, cluster_count_options)\n",
    "\n",
    "# 클러스터링 결과 출력\n",
    "for i, cluster in enumerate(set(best_labels)):\n",
    "    cluster_locations = locations[best_labels == cluster]\n",
    "    print(f\"Cluster {i+1} locations: {cluster_locations}\")\n"
   ]
  },
  {
   "cell_type": "code",
   "execution_count": null,
   "metadata": {},
   "outputs": [],
   "source": []
  }
 ],
 "metadata": {
  "kernelspec": {
   "display_name": "air_env",
   "language": "python",
   "name": "python3"
  },
  "language_info": {
   "codemirror_mode": {
    "name": "ipython",
    "version": 3
   },
   "file_extension": ".py",
   "mimetype": "text/x-python",
   "name": "python",
   "nbconvert_exporter": "python",
   "pygments_lexer": "ipython3",
   "version": "3.10.15"
  }
 },
 "nbformat": 4,
 "nbformat_minor": 2
}
